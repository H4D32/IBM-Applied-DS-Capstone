{
    "cells": [
        {
            "cell_type": "markdown",
            "metadata": {},
            "source": "# Description\nThis notebook does analysis"
        },
        {
            "cell_type": "code",
            "execution_count": 1,
            "metadata": {},
            "outputs": [
                {
                    "data": {
                        "text/html": "<div>\n<style scoped>\n    .dataframe tbody tr th:only-of-type {\n        vertical-align: middle;\n    }\n\n    .dataframe tbody tr th {\n        vertical-align: top;\n    }\n\n    .dataframe thead th {\n        text-align: right;\n    }\n</style>\n<table border=\"1\" class=\"dataframe\">\n  <thead>\n    <tr style=\"text-align: right;\">\n      <th></th>\n      <th>App</th>\n      <th>Category</th>\n      <th>Rating</th>\n      <th>Reviews</th>\n      <th>Size</th>\n      <th>Installs</th>\n      <th>Type</th>\n      <th>Price</th>\n      <th>Content.Rating</th>\n      <th>Genres</th>\n      <th>Last.Updated</th>\n      <th>Current.Ver</th>\n      <th>Android.Ver</th>\n    </tr>\n  </thead>\n  <tbody>\n    <tr>\n      <th>0</th>\n      <td>Camera360: Selfie Photo Editor with Funny Sticker</td>\n      <td>PHOTOGRAPHY</td>\n      <td>4.3</td>\n      <td>4865093</td>\n      <td>51M</td>\n      <td>100,000,000+</td>\n      <td>Free</td>\n      <td>0</td>\n      <td>Everyone</td>\n      <td>Photography</td>\n      <td>August 6, 2018</td>\n      <td>9.3.1</td>\n      <td>4.0.3 and up</td>\n    </tr>\n    <tr>\n      <th>1</th>\n      <td>Discord - Chat for Gamers</td>\n      <td>COMMUNICATION</td>\n      <td>4.5</td>\n      <td>305347</td>\n      <td>39M</td>\n      <td>10,000,000+</td>\n      <td>Free</td>\n      <td>0</td>\n      <td>Teen</td>\n      <td>Communication</td>\n      <td>July 27, 2018</td>\n      <td>7.1.8</td>\n      <td>4.1 and up</td>\n    </tr>\n    <tr>\n      <th>2</th>\n      <td>Remix Second Hand</td>\n      <td>SHOPPING</td>\n      <td>4.2</td>\n      <td>867</td>\n      <td>7.5M</td>\n      <td>100,000+</td>\n      <td>Free</td>\n      <td>0</td>\n      <td>Everyone</td>\n      <td>Shopping</td>\n      <td>August 2, 2018</td>\n      <td>1.5.8</td>\n      <td>4.4 and up</td>\n    </tr>\n    <tr>\n      <th>3</th>\n      <td>Photo Lab Picture Editor: face effects, art fr...</td>\n      <td>PHOTOGRAPHY</td>\n      <td>4.5</td>\n      <td>1536512</td>\n      <td>Varies with device</td>\n      <td>50,000,000+</td>\n      <td>Free</td>\n      <td>0</td>\n      <td>Everyone</td>\n      <td>Photography</td>\n      <td>July 17, 2018</td>\n      <td>Varies with device</td>\n      <td>Varies with device</td>\n    </tr>\n    <tr>\n      <th>4</th>\n      <td>Tee and Mo Bath Time Free</td>\n      <td>FAMILY</td>\n      <td>3.6</td>\n      <td>418</td>\n      <td>97M</td>\n      <td>100,000+</td>\n      <td>Free</td>\n      <td>0</td>\n      <td>Everyone</td>\n      <td>Educational;Education</td>\n      <td>November 7, 2016</td>\n      <td>1.0.3</td>\n      <td>4.0.3 and up</td>\n    </tr>\n  </tbody>\n</table>\n</div>",
                        "text/plain": "                                                 App       Category  Rating  \\\n0  Camera360: Selfie Photo Editor with Funny Sticker    PHOTOGRAPHY     4.3   \n1                          Discord - Chat for Gamers  COMMUNICATION     4.5   \n2                                  Remix Second Hand       SHOPPING     4.2   \n3  Photo Lab Picture Editor: face effects, art fr...    PHOTOGRAPHY     4.5   \n4                          Tee and Mo Bath Time Free         FAMILY     3.6   \n\n   Reviews                Size      Installs  Type Price Content.Rating  \\\n0  4865093                 51M  100,000,000+  Free     0       Everyone   \n1   305347                 39M   10,000,000+  Free     0           Teen   \n2      867                7.5M      100,000+  Free     0       Everyone   \n3  1536512  Varies with device   50,000,000+  Free     0       Everyone   \n4      418                 97M      100,000+  Free     0       Everyone   \n\n                  Genres      Last.Updated         Current.Ver  \\\n0            Photography    August 6, 2018               9.3.1   \n1          Communication     July 27, 2018               7.1.8   \n2               Shopping    August 2, 2018               1.5.8   \n3            Photography     July 17, 2018  Varies with device   \n4  Educational;Education  November 7, 2016               1.0.3   \n\n          Android.Ver  \n0        4.0.3 and up  \n1          4.1 and up  \n2          4.4 and up  \n3  Varies with device  \n4        4.0.3 and up  "
                    },
                    "execution_count": 1,
                    "metadata": {},
                    "output_type": "execute_result"
                }
            ],
            "source": "# The code was removed by Watson Studio for sharing."
        },
        {
            "cell_type": "code",
            "execution_count": null,
            "metadata": {},
            "outputs": [],
            "source": ""
        }
    ],
    "metadata": {
        "kernelspec": {
            "display_name": "Python 3.8",
            "language": "python",
            "name": "python3"
        },
        "language_info": {
            "codemirror_mode": {
                "name": "ipython",
                "version": 3
            },
            "file_extension": ".py",
            "mimetype": "text/x-python",
            "name": "python",
            "nbconvert_exporter": "python",
            "pygments_lexer": "ipython3",
            "version": "3.8.11"
        }
    },
    "nbformat": 4,
    "nbformat_minor": 1
}